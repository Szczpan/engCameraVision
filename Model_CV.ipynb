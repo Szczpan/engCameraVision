{
 "cells": [
  {
   "cell_type": "code",
   "execution_count": 1,
   "id": "04c33d7b",
   "metadata": {},
   "outputs": [],
   "source": [
    "import cv2\n",
    "import numpy as np\n",
    "\n",
    "frame = cv2.imread(r\"C:\\Users\\butel\\Line_Navigation\\mpc-hc64_snnl9ze0mD.png\")\n",
    "\n",
    "hsv = cv2.cvtColor(frame, cv2.COLOR_BGR2HSV)\n",
    "\n",
    "cv2.imshow('Original Image', frame)\n",
    "cv2.waitKey(0)  # Wait for a key press before closing the window\n",
    "cv2.destroyAllWindows()"
   ]
  },
  {
   "cell_type": "code",
   "execution_count": 4,
   "id": "0cad6910",
   "metadata": {},
   "outputs": [],
   "source": [
    "lower_white = np.array([300, 300, 300])\n",
    "upper_white = np.array([360, 360, 360])\n",
    "mask = cv2.inRange(hsv, lower_white, upper_white)"
   ]
  },
  {
   "cell_type": "code",
   "execution_count": null,
   "id": "8975dd98",
   "metadata": {},
   "outputs": [],
   "source": [
    "masked_frame= cv2.bitwise_and(frame, frame, mask=mask)\n",
    "cv2.imshow('Original Image', frame)\n",
    "cv2.imshow('Masked Image', masked_frame)\n",
    "cv2.waitKey(0)  # Wait for a key press before closing the window\n",
    "cv2.destroyAllWindows()"
   ]
  },
  {
   "cell_type": "code",
   "execution_count": null,
   "id": "f0f4856a",
   "metadata": {},
   "outputs": [],
   "source": [
    "edges = cv2.Canny(mask, 200, 400)"
   ]
  },
  {
   "cell_type": "code",
   "execution_count": null,
   "id": "d0a99d4c",
   "metadata": {},
   "outputs": [],
   "source": [
    "def detect_edges(frame):\n",
    "    # filter for blue lane lines\n",
    "    hsv = cv2.cvtColor(frame, cv2.COLOR_BGR2HSV)\n",
    "    show_image(\"hsv\", hsv)\n",
    "    lower_blue = np.array([60, 40, 40])\n",
    "    upper_blue = np.array([150, 255, 255])\n",
    "    mask = cv2.inRange(hsv, lower_blue, upper_blue)\n",
    "    show_image(\"blue mask\", mask)\n",
    "\n",
    "    # detect edges\n",
    "    edges = cv2.Canny(mask, 200, 400)\n",
    "\n",
    "    return edges"
   ]
  },
  {
   "cell_type": "code",
   "execution_count": null,
   "id": "92c6729e",
   "metadata": {},
   "outputs": [],
   "source": [
    "def region_of_interest(edges):\n",
    "    height, width = edges.shape\n",
    "    mask = np.zeros_like(edges)\n",
    "\n",
    "    # only focus bottom half of the screen\n",
    "    polygon = np.array([[\n",
    "        (0, height * 1 / 2),\n",
    "        (width, height * 1 / 2),\n",
    "        (width, height),\n",
    "        (0, height),\n",
    "    ]], np.int32)\n",
    "\n",
    "    cv2.fillPoly(mask, polygon, 255)\n",
    "    cropped_edges = cv2.bitwise_and(edges, mask)\n",
    "    return cropped_edges"
   ]
  },
  {
   "cell_type": "code",
   "execution_count": null,
   "id": "5469957f",
   "metadata": {},
   "outputs": [],
   "source": [
    "def detect_line_segments(cropped_edges):\n",
    "    # tuning min_threshold, minLineLength, maxLineGap is a trial and error process by hand\n",
    "    rho = 1  # distance precision in pixel, i.e. 1 pixel\n",
    "    angle = np.pi / 180  # angular precision in radian, i.e. 1 degree\n",
    "    min_threshold = 10  # minimal of votes\n",
    "    line_segments = cv2.HoughLinesP(cropped_edges, rho, angle, min_threshold, \n",
    "                                    np.array([]), minLineLength=8, maxLineGap=4)\n",
    "\n",
    "    return line_segments"
   ]
  },
  {
   "cell_type": "code",
   "execution_count": null,
   "id": "1e2ba843",
   "metadata": {},
   "outputs": [],
   "source": [
    "def average_slope_intercept(frame, line_segments):\n",
    "    \"\"\"\n",
    "    This function combines line segments into one or two lane lines\n",
    "    If all line slopes are < 0: then we only have detected left lane\n",
    "    If all line slopes are > 0: then we only have detected right lane\n",
    "    \"\"\"\n",
    "    lane_lines = []\n",
    "    if line_segments is None:\n",
    "        logging.info('No line_segment segments detected')\n",
    "        return lane_lines\n",
    "\n",
    "    height, width, _ = frame.shape\n",
    "    left_fit = []\n",
    "    right_fit = []\n",
    "\n",
    "    boundary = 1/3\n",
    "    left_region_boundary = width * (1 - boundary)  # left lane line segment should be on left 2/3 of the screen\n",
    "    right_region_boundary = width * boundary # right lane line segment should be on left 2/3 of the screen\n",
    "\n",
    "    for line_segment in line_segments:\n",
    "        for x1, y1, x2, y2 in line_segment:\n",
    "            if x1 == x2:\n",
    "                logging.info('skipping vertical line segment (slope=inf): %s' % line_segment)\n",
    "                continue\n",
    "            fit = np.polyfit((x1, x2), (y1, y2), 1)\n",
    "            slope = fit[0]\n",
    "            intercept = fit[1]\n",
    "            if slope < 0:\n",
    "                if x1 < left_region_boundary and x2 < left_region_boundary:\n",
    "                    left_fit.append((slope, intercept))\n",
    "            else:\n",
    "                if x1 > right_region_boundary and x2 > right_region_boundary:\n",
    "                    right_fit.append((slope, intercept))\n",
    "\n",
    "    left_fit_average = np.average(left_fit, axis=0)\n",
    "    if len(left_fit) > 0:\n",
    "        lane_lines.append(make_points(frame, left_fit_average))\n",
    "\n",
    "    right_fit_average = np.average(right_fit, axis=0)\n",
    "    if len(right_fit) > 0:\n",
    "        lane_lines.append(make_points(frame, right_fit_average))\n",
    "\n",
    "    logging.debug('lane lines: %s' % lane_lines)  # [[[316, 720, 484, 432]], [[1009, 720, 718, 432]]]\n",
    "\n",
    "    return lane_lines"
   ]
  },
  {
   "cell_type": "code",
   "execution_count": null,
   "id": "48481000",
   "metadata": {},
   "outputs": [],
   "source": [
    "def make_points(frame, line):\n",
    "    height, width, _ = frame.shape\n",
    "    slope, intercept = line\n",
    "    y1 = height  # bottom of the frame\n",
    "    y2 = int(y1 * 1 / 2)  # make points from middle of the frame down\n",
    "\n",
    "    # bound the coordinates within the frame\n",
    "    x1 = max(-width, min(2 * width, int((y1 - intercept) / slope)))\n",
    "    x2 = max(-width, min(2 * width, int((y2 - intercept) / slope)))\n",
    "    return [[x1, y1, x2, y2]]"
   ]
  },
  {
   "cell_type": "code",
   "execution_count": null,
   "id": "35bc5bfb",
   "metadata": {},
   "outputs": [],
   "source": [
    "def display_lines(frame, lines, line_color=(0, 255, 0), line_width=2):\n",
    "    line_image = np.zeros_like(frame)\n",
    "    if lines is not None:\n",
    "        for line in lines:\n",
    "            for x1, y1, x2, y2 in line:\n",
    "                cv2.line(line_image, (x1, y1), (x2, y2), line_color, line_width)\n",
    "    line_image = cv2.addWeighted(frame, 0.8, line_image, 1, 1)\n",
    "    return line_image\n",
    "\n",
    "lane_lines_image = display_lines(frame, lane_lines)\n",
    "cv2.imshow(\"lane lines\", lane_lines_image)"
   ]
  },
  {
   "cell_type": "code",
   "execution_count": null,
   "id": "904d9064",
   "metadata": {},
   "outputs": [],
   "source": [
    "_, _, left_x2, _ = lane_lines[0][0]\n",
    "_, _, right_x2, _ = lane_lines[1][0]\n",
    "mid = int(width / 2)\n",
    "x_offset = (left_x2 + right_x2) / 2 - mid\n",
    "y_offset = int(height / 2)"
   ]
  },
  {
   "cell_type": "code",
   "execution_count": null,
   "id": "4683953e",
   "metadata": {},
   "outputs": [],
   "source": [
    "x1, _, x2, _ = lane_lines[0][0]\n",
    "x_offset = x2 - x1\n",
    "y_offset = int(height / 2)"
   ]
  },
  {
   "cell_type": "code",
   "execution_count": null,
   "id": "7d20f456",
   "metadata": {},
   "outputs": [],
   "source": [
    "angle_to_mid_radian = math.atan(x_offset / y_offset)  # angle (in radian) to center vertical line\n",
    "angle_to_mid_deg = int(angle_to_mid_radian * 180.0 / math.pi)  # angle (in degrees) to center vertical line\n",
    "steering_angle = angle_to_mid_deg + 90  # this is the steering angle needed by picar front wheel"
   ]
  },
  {
   "cell_type": "code",
   "execution_count": null,
   "id": "38879fea",
   "metadata": {},
   "outputs": [],
   "source": [
    "def display_heading_line(frame, steering_angle, line_color=(0, 0, 255), line_width=5 ):\n",
    "    heading_image = np.zeros_like(frame)\n",
    "    height, width, _ = frame.shape\n",
    "\n",
    "    # figure out the heading line from steering angle\n",
    "    # heading line (x1,y1) is always center bottom of the screen\n",
    "    # (x2, y2) requires a bit of trigonometry\n",
    "\n",
    "    # Note: the steering angle of:\n",
    "    # 0-89 degree: turn left\n",
    "    # 90 degree: going straight\n",
    "    # 91-180 degree: turn right \n",
    "    steering_angle_radian = steering_angle / 180.0 * math.pi\n",
    "    x1 = int(width / 2)\n",
    "    y1 = height\n",
    "    x2 = int(x1 - height / 2 / math.tan(steering_angle_radian))\n",
    "    y2 = int(height / 2)\n",
    "\n",
    "    cv2.line(heading_image, (x1, y1), (x2, y2), line_color, line_width)\n",
    "    heading_image = cv2.addWeighted(frame, 0.8, heading_image, 1, 1)\n",
    "\n",
    "    return heading_image"
   ]
  },
  {
   "cell_type": "code",
   "execution_count": null,
   "id": "bb08804a",
   "metadata": {},
   "outputs": [],
   "source": [
    "def stabilize_steering_angle(\n",
    "          curr_steering_angle, \n",
    "          new_steering_angle, \n",
    "          num_of_lane_lines, \n",
    "          max_angle_deviation_two_lines=5, \n",
    "          max_angle_deviation_one_lane=1):\n",
    "    \"\"\"\n",
    "    Using last steering angle to stabilize the steering angle\n",
    "    if new angle is too different from current angle, \n",
    "    only turn by max_angle_deviation degrees\n",
    "    \"\"\"\n",
    "    if num_of_lane_lines == 2 :\n",
    "        # if both lane lines detected, then we can deviate more\n",
    "        max_angle_deviation = max_angle_deviation_two_lines\n",
    "    else :\n",
    "        # if only one lane detected, don't deviate too much\n",
    "        max_angle_deviation = max_angle_deviation_one_lane\n",
    "    \n",
    "    angle_deviation = new_steering_angle - curr_steering_angle\n",
    "    if abs(angle_deviation) > max_angle_deviation:\n",
    "        stabilized_steering_angle = int(curr_steering_angle\n",
    "            + max_angle_deviation * angle_deviation / abs(angle_deviation))\n",
    "    else:\n",
    "        stabilized_steering_angle = new_steering_angle\n",
    "    return stabilized_steering_angle"
   ]
  }
 ],
 "metadata": {
  "kernelspec": {
   "display_name": "Python 3 (ipykernel)",
   "language": "python",
   "name": "python3"
  },
  "language_info": {
   "codemirror_mode": {
    "name": "ipython",
    "version": 3
   },
   "file_extension": ".py",
   "mimetype": "text/x-python",
   "name": "python",
   "nbconvert_exporter": "python",
   "pygments_lexer": "ipython3",
   "version": "3.9.18"
  }
 },
 "nbformat": 4,
 "nbformat_minor": 5
}
